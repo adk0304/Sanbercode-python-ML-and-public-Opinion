{
  "cells": [
    {
      "cell_type": "code",
      "execution_count": 2,
      "metadata": {
        "id": "EB5BtvV3mzRv"
      },
      "outputs": [],
      "source": [
        "#import semua library yang kalian butuhkan disini\n",
        "import json,requests,tweepy\n",
        "from requests_oauthlib import OAuth1"
      ]
    },
    {
      "cell_type": "code",
      "execution_count": 3,
      "metadata": {
        "colab": {
          "base_uri": "https://localhost:8080/"
        },
        "id": "nXj1rD5SVKgY",
        "outputId": "b85f1031-0b2e-4158-88f2-90f6e94c2b23"
      },
      "outputs": [
        {
          "data": {
            "text/plain": [
              "dict_keys(['bearer_token', 'api_key', 'api_key_secret', 'access_token', 'access_token_secret'])"
            ]
          },
          "execution_count": 3,
          "metadata": {},
          "output_type": "execute_result"
        }
      ],
      "source": [
        "#sel ini digunakan untuk membaca tokens kalian. simpan berkas token.json pada folder yang sama dengan file tugas ini\n",
        "\n",
        "with open(\"token.json\") as f:\n",
        "  tokens = json.load(f)\n",
        "\n",
        "bearer_token = tokens['bearer_token']\n",
        "api_key = tokens['api_key']\n",
        "api_key_secret = tokens['api_key_secret']\n",
        "access_token = tokens['access_token']\n",
        "access_token_secret = tokens['access_token_secret']\n",
        "\n",
        "tokens.keys()"
      ]
    },
    {
      "cell_type": "code",
      "execution_count": 4,
      "metadata": {
        "id": "MoyA2If8zF18"
      },
      "outputs": [],
      "source": [
        "#buat variabel authentikasi dan api\n",
        "'''auth = OAuth1(\n",
        "        api_key,\n",
        "        api_key_secret,\n",
        "        access_token,\n",
        "        access_token_secret\n",
        ")'''\n",
        "auth = tweepy.OAuthHandler(\n",
        "        api_key,\n",
        "        api_key_secret,\n",
        "        access_token,\n",
        "        access_token_secret\n",
        ")\n",
        "auth.set_access_token(\n",
        "        access_token,\n",
        "        access_token_secret)\n",
        "api = tweepy.API(auth,wait_on_rate_limit=True)\n",
        "api_2= tweepy.Client(bearer_token=bearer_token,wait_on_rate_limit=True)"
      ]
    },
    {
      "cell_type": "code",
      "execution_count": 34,
      "metadata": {
        "id": "-kIrEKMPxkA6"
      },
      "outputs": [],
      "source": [
        "#Buatlah sebuah fungsi dengan nama user_timeline_scraper()\n",
        "#fungsi tersebut memiliki input username dari user\n",
        "#Fungsi ini berguna untuk mengambil 10 tweet yang berada di timeline user.\n",
        "#gunakan metode Cursor untuk tugas ini\n",
        "#gunakan tweet_mode --> extended\n",
        "\n",
        "def user_timeline_scraper(username):\n",
        "  \n",
        "  response = tweepy.Paginator(\n",
        "    api_2.search_recent_tweets,\n",
        "    username,\n",
        "    max_results = 10,\n",
        "  ).flatten(limit=10)\n",
        "  \n",
        "  for tweet in response:\n",
        "    print(tweet.text.strip())"
      ]
    },
    {
      "cell_type": "code",
      "execution_count": 35,
      "metadata": {
        "colab": {
          "base_uri": "https://localhost:8080/"
        },
        "id": "P_gU22BzyrLt",
        "outputId": "00a0c661-8463-4928-dcf7-61bb541b829c"
      },
      "outputs": [
        {
          "name": "stdout",
          "output_type": "stream",
          "text": [
            "@kumparan Mungkin bisa bantu CEK&amp;RICEK INVESTIGASI oleh @antikorupsi @KPK_RI pihak2 yg MENJADIKAN.PELAPOR sbg TERSANGKA!!! Spy masyr PAHAM &amp; KAsUS jd TERBUKA @KejaksaanRI @hotmanParis @Kemenkumham_RI @DivHumas_Polri @MataNajwa @kompascom @tempodotco @yennywahid @PolhukamRI\n",
            "@MELATISIMATUPA4 @jokowi @tvOneNews @MataNajwa Wahai orang tolol!! Semoga lo kena Covid!! Bisa bisanya virus udh nyebar pake bilang bisnis. Tolol!! Lo liat bnyk org yg udh kena, itu virus nyata bego. Jgn tolol jadi orang!!!\n",
            "RT @sman1018: @SopoJar6wo @vievien_vivien @OktaBARA_DD @hajimunawaa @pakdee_ronnie @MariaTrihartati @aryani_wahyu22 @AXA_Mandiri @ojkindone…\n",
            "@sman1018 @SopoJar6wo @vievien_vivien @OktaBARA_DD @hajimunawaa @MariaTrihartati @aryani_wahyu22 @AXA_Mandiri @ojkindonesia @OmbudsmanRI137 @KemensetnegRI @setkabgoid @jokowi @Don_dasco @ListyoSigitP @prabowo @sandiuno @puanmaharani_ri @bank_indonesia @bankmandiri @CIMBNiaga @BankBCA @mohmahfudmd @antonsyafri6896 @DasriSyafrial @Okkkaaa3 @andrewenas @FPKSDPRRI @FraksiPKB @erickthohir @KomisiYudisial @geloraco @MataNajwa @Metro_TV @DPR_RI @detikcom @AREAJULID @msaid_didu @d4r_5 @fransanjas @Nuriyan16761472 @Budikedaimieone @knpiharis @fahiraidris @mandiricard #TOLAKLAPS\n",
            "@aryani_wahyu22 @sman1018 @SopoJar6wo @vievien_vivien @OktaBARA_DD @hajimunawaa @MariaTrihartati @AXA_Mandiri @ojkindonesia @OmbudsmanRI137 @KemensetnegRI @setkabgoid @jokowi @Don_dasco @ListyoSigitP @prabowo @sandiuno @puanmaharani_ri @bank_indonesia @bankmandiri @CIMBNiaga @BankBCA @mohmahfudmd @antonsyafri6896 @DasriSyafrial @Okkkaaa3 @andrewenas @FPKSDPRRI @FraksiPKB @erickthohir @KomisiYudisial @geloraco @MataNajwa @Metro_TV @DPR_RI @detikcom @AREAJULID @msaid_didu @d4r_5 @fransanjas @Nuriyan16761472 @Budikedaimieone @knpiharis @fahiraidris @mandiricard #TOLAKLAPS\n",
            "RT @aryani_wahyu22: @sman1018 @SopoJar6wo @vievien_vivien @OktaBARA_DD @hajimunawaa @pakdee_ronnie @MariaTrihartati @AXA_Mandiri @ojkindone…\n",
            "@AXA_Mandiri TOLONG UANG SAYA DIKEMBALIKAN!\n",
            "\n",
            "JANGAN SUKA MENAHAN HAK NASABAH! FA SUDAH MENGAKUI MENITIPKAN POLIS.\n",
            "\n",
            "@SopoJar6wo \n",
            "@AREAJULID \n",
            "@fransanjas \n",
            "@andihiyat \n",
            "@sman1018 \n",
            "@vievien_vivien \n",
            "@TofaTofa_id \n",
            "@MataNajwa \n",
            "@Beritasatu \n",
            "@ojkindonesia https://t.co/WoL9VSVN7h\n",
            "Kantor Hemat Rumah Hobi https://t.co/FRqfBQh43d? MataNajwa info_ciputat\n",
            "@sman1018 @SopoJar6wo @vievien_vivien @OktaBARA_DD @hajimunawaa @pakdee_ronnie @MariaTrihartati @AXA_Mandiri @ojkindonesia @OmbudsmanRI137 @KemensetnegRI @setkabgoid @jokowi @Don_dasco @ListyoSigitP @prabowo @sandiuno @puanmaharani_ri @bank_indonesia @bankmandiri @CIMBNiaga @BankBCA @mohmahfudmd @antonsyafri6896 @DasriSyafrial @Okkkaaa3 @andrewenas @FPKSDPRRI @FraksiPKB @erickthohir @KomisiYudisial @geloraco @MataNajwa @Metro_TV @DPR_RI @detikcom @AREAJULID @msaid_didu @d4r_5 @fransanjas @Nuriyan16761472 @Budikedaimieone @knpiharis @fahiraidris @mandiricard MOHON RASA KEADILAN @ojkindonesia \n",
            "\n",
            "TOLONG BANTU KAMI NASABAH @AXA_Mandiri https://t.co/X8iGtGfFrJ\n",
            "@SopoJar6wo @vievien_vivien @OktaBARA_DD @hajimunawaa @pakdee_ronnie @MariaTrihartati @aryani_wahyu22 @AXA_Mandiri @ojkindonesia @OmbudsmanRI137 @KemensetnegRI @setkabgoid @jokowi @Don_dasco @ListyoSigitP @prabowo @sandiuno @puanmaharani_ri @bank_indonesia @bankmandiri @CIMBNiaga @BankBCA @mohmahfudmd @antonsyafri6896 @DasriSyafrial @Okkkaaa3 @andrewenas @FPKSDPRRI @FraksiPKB @erickthohir @KomisiYudisial @geloraco @MataNajwa @Metro_TV @DPR_RI @detikcom @AREAJULID @msaid_didu @d4r_5 @fransanjas @Nuriyan16761472 @Budikedaimieone @knpiharis @fahiraidris @mandiricard ssuai apa yg sy alami ada andil cs @bankmandiri dlm menjerumuskan Nasabahx..trus berjuang utk mendptkan hakx yg tlh di rampas oleh @AXA_Mandiri lewat kerja FA yg TDK jujur dlm menjual produkx\n"
          ]
        }
      ],
      "source": [
        "username = \"MataNajwa\"\n",
        "user_timeline_scraper(username)"
      ]
    },
    {
      "cell_type": "code",
      "execution_count": 30,
      "metadata": {},
      "outputs": [
        {
          "data": {
            "text/plain": [
              "'import tweepy\\n\\nclient = tweepy.Client(bearer_token=bearer_token)\\n\\nfor tweet in tweepy.Paginator(client.search_recent_tweets, \"Tweepy\",\\n                              max_results=100).flatten(limit=250):\\n    print(tweet.text.strip())\\n'"
            ]
          },
          "execution_count": 30,
          "metadata": {},
          "output_type": "execute_result"
        }
      ],
      "source": [
        "'''import tweepy\n",
        "\n",
        "client = tweepy.Client(bearer_token=bearer_token)\n",
        "\n",
        "for tweet in tweepy.Paginator(client.search_recent_tweets, \"Tweepy\",\n",
        "                              max_results=100).flatten(limit=250):\n",
        "    print(tweet.text.strip())\n",
        "'''"
      ]
    }
  ],
  "metadata": {
    "colab": {
      "collapsed_sections": [],
      "name": "tugas_23_coding.ipynb",
      "provenance": []
    },
    "kernelspec": {
      "display_name": "Python 3",
      "name": "python3"
    },
    "language_info": {
      "codemirror_mode": {
        "name": "ipython",
        "version": 3
      },
      "file_extension": ".py",
      "mimetype": "text/x-python",
      "name": "python",
      "nbconvert_exporter": "python",
      "pygments_lexer": "ipython3",
      "version": "3.9.7"
    }
  },
  "nbformat": 4,
  "nbformat_minor": 0
}
