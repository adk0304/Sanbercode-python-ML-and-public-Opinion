{
  "cells": [
    {
      "cell_type": "code",
      "execution_count": 1,
      "metadata": {
        "id": "EB5BtvV3mzRv"
      },
      "outputs": [],
      "source": [
        "#import semua library yang kalian butuhkan disini\n",
        "import json,tweepy"
      ]
    },
    {
      "cell_type": "code",
      "execution_count": 9,
      "metadata": {
        "colab": {
          "base_uri": "https://localhost:8080/"
        },
        "id": "nXj1rD5SVKgY",
        "outputId": "b85f1031-0b2e-4158-88f2-90f6e94c2b23"
      },
      "outputs": [
        {
          "data": {
            "text/plain": [
              "dict_keys(['api_key', 'api_key_secret', 'access_token', 'access_token_secret', 'bearer_token'])"
            ]
          },
          "execution_count": 9,
          "metadata": {},
          "output_type": "execute_result"
        }
      ],
      "source": [
        "#sel ini digunakan untuk membaca tokens kalian. simpan berkas token.json pada folder yang sama dengan file tugas ini\n",
        "\n",
        "with open(\"token2.json\") as f:\n",
        "  tokens = json.load(f)\n",
        "\n",
        "bearer_token = tokens['bearer_token']\n",
        "api_key = tokens['api_key']\n",
        "api_key_secret = tokens['api_key_secret']\n",
        "access_token = tokens['access_token']\n",
        "access_token_secret = tokens['access_token_secret']\n",
        "\n",
        "tokens.keys()"
      ]
    },
    {
      "cell_type": "code",
      "execution_count": 10,
      "metadata": {
        "id": "MoyA2If8zF18"
      },
      "outputs": [],
      "source": [
        "#buat variabel authentikasi dan api\n",
        "auth = tweepy.OAuthHandler(api_key,api_key_secret)\n",
        "auth.set_access_token(access_token,access_token_secret)\n",
        "api = tweepy.API(auth,wait_on_rate_limit=True)"
      ]
    },
    {
      "cell_type": "code",
      "execution_count": 13,
      "metadata": {
        "id": "-kIrEKMPxkA6"
      },
      "outputs": [],
      "source": [
        "#Buatlah sebuah fungsi dengan nama user_timeline_scraper()\n",
        "#fungsi tersebut memiliki input username dari user\n",
        "#Fungsi ini berguna untuk mengambil 10 tweet yang berada di timeline user.\n",
        "#gunakan metode Cursor untuk tugas ini\n",
        "#gunakan tweet_mode --> extended\n",
        "\n",
        "def user_timeline_scraper(username):\n",
        "  tweets = tweepy.Cursor(\n",
        "    api.user_timeline,\n",
        "    screen_name = username,\n",
        "    tweet_mode = 'extended'\n",
        "  ).items(10)\n",
        "  for tweet in tweets:\n",
        "    print(tweet.full_text.strip())\n",
        "    print(\"---------------\")"
      ]
    },
    {
      "cell_type": "code",
      "execution_count": 14,
      "metadata": {
        "colab": {
          "base_uri": "https://localhost:8080/"
        },
        "id": "P_gU22BzyrLt",
        "outputId": "00a0c661-8463-4928-dcf7-61bb541b829c"
      },
      "outputs": [
        {
          "name": "stdout",
          "output_type": "stream",
          "text": [
            "@Alvaro_Hakim007 Mata Najwa lagi nggak tayang, ya kak. Kita ketemu secepatnya di #NextJourneyMataNajwa 😊\n",
            "---------------\n",
            "LSI, Lembaga Survei Indonesia, udah merilis survey tanggapan publik soal pemilu ditunda. Hasilnya? Mayoritas nolak, sih..\n",
            "tepatnya 70,7% responden menolak pemilu ditunda.\n",
            "\n",
            "Kalau respon netizen di medsos sih kelihatannya.. 🤔\n",
            "\n",
            "| Mata Najwa\n",
            "#NextJourneyMataNajwa https://t.co/Dh41k0FD4y\n",
            "---------------\n",
            "Selasa Kelabu di Wadas, Apa Yang Sesungguhnya Terjadi Di Balik Penangkapan Warga\n",
            "https://t.co/JCfW8Q0S1J\n",
            "\n",
            "Komisi Nasional Hak Asasi Manusia menemukan pelanggaran HAM yang dilakukan Kepolisian saat mengawal pengukuran tanah di Desa Wadas. | Buka Mata\n",
            "---------------\n",
            "Ada beragam persoalan dan isu publik yang bikin resah dan diharapkan dibahas dalam topik Mata Najwa.\n",
            "\n",
            "Tahan dulu rindunya ya..👏🏼\n",
            "Terima kasih masukannya, kami terus pantau sambil menyiapkan #NextJourneyMataNajwa\n",
            "\n",
            "| Mata Najwa\n",
            "#MataNajwa #Narasi https://t.co/lCtt9kWmai\n",
            "---------------\n",
            "Soal usulan penundaan pemilu 2024, selanjutnya siapa yang akan bersuara dan mengumumkan menjadi tim mana, ya?🧐\n",
            "\n",
            "| Mata Najwa\n",
            "#PenundaanPemilu #MataNajwa #JadiPaham #Narasi https://t.co/WIgffpbwda\n",
            "---------------\n",
            "Pemilu Ditunda Diusulkan Pakai Alasan Tak Masuk Akal: Mari Kita Bongkar\n",
            "https://t.co/U8s7XRx08C\n",
            "\n",
            "Kami menguji klaim politikus yang ingin Pemilu 2024 ditunda. | Buka Data\n",
            "---------------\n",
            "Tonton yuk Shihab &amp; Shihab episode “Dendam, Lampiaskan atau Maafkan? Ini Kata Abi Quraish Shihab” di link ini 👇 https://t.co/I4z871hKNi | Shihab &amp; Shihab\n",
            "\n",
            "#ShihabNShihab #Narasi #JadiPaham\n",
            "---------------\n",
            "Janganlah jadi orang yang penuh rasa dendam, itu kata Abi Quraish. Eh, tapi ada lho dendam yang diperbolehkan. Apa tuh?  | Shihab &amp; Shihab\n",
            "\n",
            "#ShihabNShihab #Narasi #JadiPaham https://t.co/bMypA7SRCX\n",
            "---------------\n",
            "Semoga di hari yang suci ini bisa menjadi momentum refleksi diri untuk kebaikan🙇🏻‍♀️🙇🏻\n",
            "Ilustrasi Karya Kolaborator Narasi Ecosystem : @AdyaYonas | Mata Najwa\n",
            "#Nyepi2022 #MataNajwa #KolaborasidiNarasi https://t.co/2O9Cmmv4DG\n",
            "---------------\n",
            "Selamat Hari Raya Nyepi 2022 dan Tahun Baru Saka 1944 bagi umat Hindu yang merayakan✨\n",
            "---------------\n"
          ]
        }
      ],
      "source": [
        "username = \"MataNajwa\"\n",
        "user_timeline_scraper(username)"
      ]
    },
    {
      "cell_type": "code",
      "execution_count": 30,
      "metadata": {},
      "outputs": [
        {
          "data": {
            "text/plain": [
              "'import tweepy\\n\\nclient = tweepy.Client(bearer_token=bearer_token)\\n\\nfor tweet in tweepy.Paginator(client.search_recent_tweets, \"Tweepy\",\\n                              max_results=100).flatten(limit=250):\\n    print(tweet.text.strip())\\n'"
            ]
          },
          "execution_count": 30,
          "metadata": {},
          "output_type": "execute_result"
        }
      ],
      "source": [
        "'''import tweepy\n",
        "\n",
        "client = tweepy.Client(bearer_token=bearer_token)\n",
        "\n",
        "for tweet in tweepy.Paginator(client.search_recent_tweets, \"Tweepy\",\n",
        "                              max_results=100).flatten(limit=250):\n",
        "    print(tweet.text.strip())\n",
        "'''"
      ]
    },
    {
      "cell_type": "code",
      "execution_count": 15,
      "metadata": {},
      "outputs": [
        {
          "ename": "NameError",
          "evalue": "name 'csv' is not defined",
          "output_type": "error",
          "traceback": [
            "\u001b[1;31m---------------------------------------------------------------------------\u001b[0m",
            "\u001b[1;31mNameError\u001b[0m                                 Traceback (most recent call last)",
            "\u001b[1;32mC:\\Users\\LENOVO~1\\AppData\\Local\\Temp/ipykernel_8196/1119583113.py\u001b[0m in \u001b[0;36m<module>\u001b[1;34m\u001b[0m\n\u001b[0;32m      1\u001b[0m \u001b[0mcsvFile\u001b[0m \u001b[1;33m=\u001b[0m \u001b[0mopen\u001b[0m\u001b[1;33m(\u001b[0m\u001b[1;34m'nama-file.csv'\u001b[0m\u001b[1;33m,\u001b[0m \u001b[1;34m'w'\u001b[0m\u001b[1;33m,\u001b[0m \u001b[0mencoding\u001b[0m\u001b[1;33m=\u001b[0m\u001b[1;34m'utf-8'\u001b[0m\u001b[1;33m)\u001b[0m\u001b[1;33m\u001b[0m\u001b[1;33m\u001b[0m\u001b[0m\n\u001b[0;32m      2\u001b[0m \u001b[1;31m#Use csv writer\u001b[0m\u001b[1;33m\u001b[0m\u001b[1;33m\u001b[0m\u001b[0m\n\u001b[1;32m----> 3\u001b[1;33m \u001b[0mcsvWriter\u001b[0m \u001b[1;33m=\u001b[0m \u001b[0mcsv\u001b[0m\u001b[1;33m.\u001b[0m\u001b[0mwriter\u001b[0m\u001b[1;33m(\u001b[0m\u001b[0mcsvFile\u001b[0m\u001b[1;33m)\u001b[0m\u001b[1;33m\u001b[0m\u001b[1;33m\u001b[0m\u001b[0m\n\u001b[0m\u001b[0;32m      4\u001b[0m \u001b[1;32mfor\u001b[0m \u001b[0mtweet\u001b[0m \u001b[1;32min\u001b[0m \u001b[0mtweepy\u001b[0m\u001b[1;33m.\u001b[0m\u001b[0mCursor\u001b[0m\u001b[1;33m(\u001b[0m\u001b[0mapi\u001b[0m\u001b[1;33m.\u001b[0m\u001b[0msearch\u001b[0m\u001b[1;33m,\u001b[0m \u001b[0mq\u001b[0m\u001b[1;33m=\u001b[0m\u001b[1;34m'#Python -filter:retweets'\u001b[0m\u001b[1;33m,\u001b[0m \u001b[0mtweet_mode\u001b[0m\u001b[1;33m=\u001b[0m\u001b[1;34m'extended'\u001b[0m\u001b[1;33m,\u001b[0m\u001b[0mlang\u001b[0m\u001b[1;33m=\u001b[0m\u001b[1;34m\"id\"\u001b[0m\u001b[1;33m,\u001b[0m \u001b[0msince\u001b[0m\u001b[1;33m=\u001b[0m\u001b[1;34m'2021-01-01'\u001b[0m\u001b[1;33m,\u001b[0m \u001b[0muntil\u001b[0m\u001b[1;33m=\u001b[0m\u001b[1;34m'2021-01-10'\u001b[0m\u001b[1;33m)\u001b[0m\u001b[1;33m.\u001b[0m\u001b[0mitems\u001b[0m\u001b[1;33m(\u001b[0m\u001b[1;36m100\u001b[0m\u001b[1;33m)\u001b[0m\u001b[1;33m:\u001b[0m\u001b[1;33m\u001b[0m\u001b[1;33m\u001b[0m\u001b[0m\n\u001b[0;32m      5\u001b[0m     \u001b[0mtext\u001b[0m \u001b[1;33m=\u001b[0m \u001b[0mtweet\u001b[0m\u001b[1;33m.\u001b[0m\u001b[0mfull_text\u001b[0m\u001b[1;33m\u001b[0m\u001b[1;33m\u001b[0m\u001b[0m\n",
            "\u001b[1;31mNameError\u001b[0m: name 'csv' is not defined"
          ]
        }
      ],
      "source": [
        "\n",
        "for tweet in tweepy.Cursor(api.search, q='#Python -filter:retweets', tweet_mode='extended',lang=\"id\", since='2021-01-01', until='2021-01-10').items(100):\n",
        "    text = tweet.full_text\n",
        "    user = tweet.user.name\n",
        "    created = tweet.created_at\n",
        "    csvWriter.writerow([created, text.encode('utf-8'), user])\n",
        "csvWriter = csv.writer(csvFile)\n",
        "csvFile.close()"
      ]
    }
  ],
  "metadata": {
    "colab": {
      "collapsed_sections": [],
      "name": "tugas_23_coding.ipynb",
      "provenance": []
    },
    "kernelspec": {
      "display_name": "Python 3",
      "name": "python3"
    },
    "language_info": {
      "codemirror_mode": {
        "name": "ipython",
        "version": 3
      },
      "file_extension": ".py",
      "mimetype": "text/x-python",
      "name": "python",
      "nbconvert_exporter": "python",
      "pygments_lexer": "ipython3",
      "version": "3.9.7"
    }
  },
  "nbformat": 4,
  "nbformat_minor": 0
}
