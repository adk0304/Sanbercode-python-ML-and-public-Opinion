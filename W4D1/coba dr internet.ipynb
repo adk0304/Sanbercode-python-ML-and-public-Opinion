{
 "cells": [
  {
   "cell_type": "code",
   "execution_count": 1,
   "metadata": {},
   "outputs": [],
   "source": [
    "#library & package. \n",
    "#Jalankan ulang jika menambahkan library baru\n",
    "\n",
    "import pandas as pd, numpy as np, matplotlib.pyplot as plt\n",
    "import json, tweepy, requests, re"
   ]
  },
  {
   "cell_type": "code",
   "execution_count": null,
   "metadata": {},
   "outputs": [],
   "source": [
    "with open(\"token.json\")as f:\n",
    "  tokens = json.load(f)\n",
    "\n",
    "bearer_token = tokens['bearer_token']\n",
    "api_key = tokens['api_key']\n",
    "api_key_secret = tokens['api_key_secret']\n",
    "access_token = tokens['access_token']\n",
    "access_token_secret = tokens['access_token_secret']\n",
    "\n",
    "authenticate = tweepy.OAuthHandler(consumer_key, consumer_secret) \n",
    "authenticate.set_access_token(access_token, access_token_secret) \n",
    "api = tweepy.API(authenticate, wait_on_rate_limit = True)"
   ]
  }
 ],
 "metadata": {
  "interpreter": {
   "hash": "d4db719dba13294554ede92694168564b7deda2e467c3974e2cc71ba9532f325"
  },
  "kernelspec": {
   "display_name": "Python 3.9.7 64-bit",
   "language": "python",
   "name": "python3"
  },
  "language_info": {
   "codemirror_mode": {
    "name": "ipython",
    "version": 3
   },
   "file_extension": ".py",
   "mimetype": "text/x-python",
   "name": "python",
   "nbconvert_exporter": "python",
   "pygments_lexer": "ipython3",
   "version": "3.9.7"
  },
  "orig_nbformat": 4
 },
 "nbformat": 4,
 "nbformat_minor": 2
}
