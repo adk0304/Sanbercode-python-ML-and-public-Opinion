{
 "cells": [
  {
   "cell_type": "markdown",
   "metadata": {},
   "source": [
    "Pada Tugas kali ini kita akan membuat 4 function yang memiliki fungsinya masing-masing.\n",
    "Data yang diambil berasal dari berkas imdb_movie_dumpfile.sql\n",
    "Silahkan import dumpfile tersebut dengan menggunakan terminal/cmd.\n",
    "\n",
    "Jika ada proses yang dilakukan boleh dilakukan dari query sql, atau menggunakan python setelah semua data ditampilkan menggunakan sql. "
   ]
  },
  {
   "cell_type": "code",
   "execution_count": 59,
   "metadata": {},
   "outputs": [],
   "source": [
    "#Taruh semua library/package dsini\n",
    "from mysql.connector import connect\n",
    "import json\n",
    "import seaborn as sns\n",
    "import matplotlib.pyplot as plt"
   ]
  },
  {
   "cell_type": "code",
   "execution_count": 40,
   "metadata": {},
   "outputs": [],
   "source": [
    "#Pada sel ini peserta diminta untuk melakukan koneksi terhadap database.\n",
    "with open(\"db.json\") as f:\n",
    "    creds = json.load(f)\n",
    "\n",
    "user = creds.get('user')\n",
    "password = creds.get('password')\n",
    "database = creds.get('database')\n"
   ]
  },
  {
   "cell_type": "code",
   "execution_count": 41,
   "metadata": {},
   "outputs": [],
   "source": [
    "db = connect(\n",
    "    host = \"localhost\",\n",
    "    user = user,\n",
    "    password = password,\n",
    "    database = database\n",
    "\n",
    ")"
   ]
  },
  {
   "cell_type": "markdown",
   "metadata": {},
   "source": [
    "1. Peserta diminta untuk membuat sebuah fungsi yang tugasnya adalah untuk menampilkan 5 direktur dengan jumlah film terbanyak dalam daftar. Data tersebut akan menampilkan secara terurut dari urutan 1 (paling banyak) ke 5."
   ]
  },
  {
   "cell_type": "code",
   "execution_count": 42,
   "metadata": {},
   "outputs": [],
   "source": [
    "def most_maker_director():\n",
    "    query = '''\n",
    "    SELECT director_name, count(director_name) as win from movies\n",
    "    GROUP BY director_name\n",
    "    ORDER BY win DESC\n",
    "    limit 5\n",
    "    '''\n",
    "\n",
    "    cursor_db = db.cursor()\n",
    "    cursor_db.execute(query)\n",
    "    data = cursor_db.fetchall()\n",
    "    for index in range(len(data)):\n",
    "        print(f\"{index+1}. {data[index][0]}\")\n",
    "\n"
   ]
  },
  {
   "cell_type": "markdown",
   "metadata": {},
   "source": [
    "2. Peserta diminta untuk membuat sebuah fungsi yang tugasnya adalah untuk menampilkan 10 direktur dengan total jumlah pendapatan terbesar untuk semua film yang dia buat. Data tersebut akan menampilkan secara terurut dari urutan 1 (paling banyak) ke 10 beserta total pendapatan dari masing-masing direktur.\n",
    "\n",
    "Pendapatan bisa didapatkan dari nilai gross"
   ]
  },
  {
   "cell_type": "code",
   "execution_count": 49,
   "metadata": {},
   "outputs": [],
   "source": [
    "def most_profitable_director():\n",
    "    query= '''\n",
    "        SELECT director_name, sum(gross) as profit\n",
    "        from movies\n",
    "        GROUP BY director_name\n",
    "        ORDER BY profit DESC\n",
    "        limit 10;\n",
    "    '''\n",
    "    cursor_db = db.cursor()\n",
    "    cursor_db.execute(query)\n",
    "    data = cursor_db.fetchall()\n",
    "    for index in range(len(data)):\n",
    "        print(f\"{index+1}. {data[index][0]} - {data[index][1]:,.2f}\")"
   ]
  },
  {
   "cell_type": "markdown",
   "metadata": {},
   "source": [
    "3. Peserta diminta untuk membuat sebuah fungsi yang tugasnya adalah untuk menampilkan 15 film dengan pendapatan terbesar. Data tersebut akan menampilkan secara terurut dari urutan 1 (paling banyak) ke 15 beserta pendapatan dari masing-masing film"
   ]
  },
  {
   "cell_type": "code",
   "execution_count": 54,
   "metadata": {},
   "outputs": [],
   "source": [
    "def most_profitable_movie():\n",
    "    query = '''\n",
    "        SELECT distinct(movie_title),title_year, gross\n",
    "        from movies\n",
    "        order by gross desc\n",
    "        limit 15;\n",
    "        '''\n",
    "    cursor_db = db.cursor()\n",
    "    cursor_db.execute(query)\n",
    "    data = cursor_db.fetchall()\n",
    "    for index in range(len(data)):\n",
    "        print(f\"{index+1}.{data[index][0]}({int(data[index][1])}) - {data[index][2]:,.2f}\")\n",
    "    "
   ]
  },
  {
   "cell_type": "markdown",
   "metadata": {},
   "source": [
    "4. Peserta diminta untuk membuat sebuah fungsi yang tugasnya adalah untuk menampilkan plot distribusi budget dari semua film pada tahun yang ditentukan. fungsi ini memiliki input, yaitu adalah tahun."
   ]
  },
  {
   "cell_type": "code",
   "execution_count": 60,
   "metadata": {},
   "outputs": [],
   "source": [
    "def budget_distribution(year):\n",
    "    query = f'''\n",
    "        select budget \n",
    "        from movies\n",
    "        where budget is not null\n",
    "        and title_year= {year}\n",
    "        '''\n",
    "    cursor_db = db.cursor()\n",
    "    cursor_db.execute(query)\n",
    "    data = cursor_db.fetchall()\n",
    "\n",
    "    list_data = [int(row[0]) for row in data]\n",
    "    sns.histplot(\n",
    "        list_data,\n",
    "        kde=True,\n",
    "        bins= int(20),\n",
    "        color = 'blue'\n",
    "    )\n",
    "    plt.title = f\"Movie Budget in {year}\"\n",
    "    plt.xlabel= 'budget'\n",
    "    plt.ylabel= 'count'\n",
    "    plt.show()"
   ]
  },
  {
   "cell_type": "markdown",
   "metadata": {},
   "source": [
    "Semua sel di bawah digunakan untuk pemanggilan fungsi dan menunjukan hasil yang diharapkan."
   ]
  },
  {
   "cell_type": "code",
   "execution_count": 45,
   "metadata": {},
   "outputs": [
    {
     "name": "stdout",
     "output_type": "stream",
     "text": [
      "1. Steven Spielberg\n",
      "2. Woody Allen\n",
      "3. Martin Scorsese\n",
      "4. Clint Eastwood\n",
      "5. Ridley Scott\n"
     ]
    }
   ],
   "source": [
    "most_maker_director()"
   ]
  },
  {
   "cell_type": "code",
   "execution_count": 50,
   "metadata": {},
   "outputs": [
    {
     "name": "stdout",
     "output_type": "stream",
     "text": [
      "1. Steven Spielberg - 4,114,233,101.00\n",
      "2. Peter Jackson - 2,592,969,279.00\n",
      "3. Michael Bay - 2,231,242,537.00\n",
      "4. Tim Burton - 2,071,275,480.00\n",
      "5. Sam Raimi - 2,049,549,198.00\n",
      "6. James Cameron - 1,948,125,910.00\n",
      "7. Christopher Nolan - 1,813,227,576.00\n",
      "8. George Lucas - 1,741,418,480.00\n",
      "9. Joss Whedon - 1,730,886,628.00\n",
      "10. Robert Zemeckis - 1,619,309,108.00\n"
     ]
    }
   ],
   "source": [
    "most_profitable_director()\n"
   ]
  },
  {
   "cell_type": "code",
   "execution_count": 55,
   "metadata": {},
   "outputs": [
    {
     "name": "stdout",
     "output_type": "stream",
     "text": [
      "1.Avatar (2009) - 760,505,847.00\n",
      "2.Titanic (1997) - 658,672,302.00\n",
      "3.Jurassic World (2015) - 652,177,271.00\n",
      "4.The Avengers (2012) - 623,279,547.00\n",
      "5.The Dark Knight (2008) - 533,316,061.00\n",
      "6.Star Wars: Episode I - The Phantom Menace (1999) - 474,544,677.00\n",
      "7.Star Wars: Episode IV - A New Hope (1977) - 460,935,665.00\n",
      "8.Avengers: Age of Ultron (2015) - 458,991,599.00\n",
      "9.The Dark Knight Rises (2012) - 448,130,642.00\n",
      "10.Shrek 2 (2004) - 436,471,036.00\n",
      "11.E.T. the Extra-Terrestrial (1982) - 434,949,459.00\n",
      "12.The Hunger Games: Catching Fire (2013) - 424,645,577.00\n",
      "13.Pirates of the Caribbean: Dead Man's Chest (2006) - 423,032,628.00\n",
      "14.The Lion King (1994) - 422,783,777.00\n",
      "15.Toy Story 3 (2010) - 414,984,497.00\n"
     ]
    }
   ],
   "source": [
    "most_profitable_movie()"
   ]
  },
  {
   "cell_type": "code",
   "execution_count": 62,
   "metadata": {},
   "outputs": [
    {
     "data": {
      "image/png": "[encoded data removed]",
      "text/plain": [
       "<Figure size 432x288 with 1 Axes>"
      ]
     },
     "metadata": {
      "needs_background": "light"
     },
     "output_type": "display_data"
    }
   ],
   "source": [
    "year = 2002\n",
    "budget_distribution(year)\n"
   ]
  }
 ],
 "metadata": {
  "interpreter": {
   "hash": "b02d93efda564da1915d42b0288c26f05ac833e7645184a564f32e638d57cc3e"
  },
  "kernelspec": {
   "display_name": "Python 3.8.6 64-bit ('public_op': virtualenv)",
   "language": "python",
   "name": "python3"
  },
  "language_info": {
   "codemirror_mode": {
    "name": "ipython",
    "version": 3
   },
   "file_extension": ".py",
   "mimetype": "text/x-python",
   "name": "python",
   "nbconvert_exporter": "python",
   "pygments_lexer": "ipython3",
   "version": "3.9.7"
  },
  "orig_nbformat": 4
 },
 "nbformat": 4,
 "nbformat_minor": 2
}
