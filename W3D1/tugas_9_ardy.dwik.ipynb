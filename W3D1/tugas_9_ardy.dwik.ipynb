{
 "cells": [
  {
   "cell_type": "code",
   "execution_count": 1,
   "metadata": {},
   "outputs": [],
   "source": [
    "#https://covid-19-apis.postman.com/\n",
    "import requests, json"
   ]
  },
  {
   "cell_type": "code",
   "execution_count": 18,
   "metadata": {},
   "outputs": [],
   "source": [
    "response = requests.get(\"https://covid-19-apis.postman.com/\")\n",
    "user_agent = \"Mozilla/5.0 (Windows NT 10.0; Win64; x64) AppleWebKit/537.36 (KHTML, like Gecko) Chrome/98.0.4758.102 Safari/537.36\"\n",
    "accept = \"text/html,application/xhtml+xml,application/xml;q=0.9,image/avif,image/webp,image/apng,*/*;q=0.8,application/signed-exchange;v=b3;q=0.9\"\n",
    "headers = {\n",
    "    'user_agent': user_agent\n",
    "    #,\n",
    "    #'Accept':accept\n",
    "}\n",
    "situs = \"https://covid-19-apis.postman.com/\"\n",
    "endpoint = \"api/country\"\n",
    "requestsSite = f'{situs}{endpoint}'\n",
    "params = {\n",
    "    \"q\" : \"indonesia\"\n",
    "}"
   ]
  },
  {
   "cell_type": "code",
   "execution_count": 19,
   "metadata": {},
   "outputs": [],
   "source": [
    "#request response\n",
    "response = requests.get(requestsSite,headers=headers,params=params)"
   ]
  },
  {
   "cell_type": "code",
   "execution_count": 20,
   "metadata": {},
   "outputs": [
    {
     "name": "stdout",
     "output_type": "stream",
     "text": [
      "403\n"
     ]
    }
   ],
   "source": [
    "print(response.status_code)"
   ]
  }
 ],
 "metadata": {
  "interpreter": {
   "hash": "d4db719dba13294554ede92694168564b7deda2e467c3974e2cc71ba9532f325"
  },
  "kernelspec": {
   "display_name": "Python 3.9.7 64-bit",
   "language": "python",
   "name": "python3"
  },
  "language_info": {
   "codemirror_mode": {
    "name": "ipython",
    "version": 3
   },
   "file_extension": ".py",
   "mimetype": "text/x-python",
   "name": "python",
   "nbconvert_exporter": "python",
   "pygments_lexer": "ipython3",
   "version": "3.9.7"
  },
  "orig_nbformat": 4
 },
 "nbformat": 4,
 "nbformat_minor": 2
}
