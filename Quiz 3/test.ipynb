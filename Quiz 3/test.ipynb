{
 "cells": [
  {
   "cell_type": "code",
   "execution_count": 7,
   "metadata": {},
   "outputs": [
    {
     "name": "stdout",
     "output_type": "stream",
     "text": [
      "Link Live Streaming Spezia Vs AS Roma, Kickoff 00.05 WIB \n"
     ]
    }
   ],
   "source": [
    "from bs4 import BeautifulSoup\n",
    "import requests\n",
    "\n",
    "page = requests.get(\"https://indeks.kompas.com/\")\n",
    "soup = BeautifulSoup(page.content, 'html.parser')\n",
    "\n",
    "quotes = soup.find_all('div', class_='latest--indeks mt2 clearfix')\n",
    "\n",
    "for q in quotes:\n",
    "    title = q.find('a', class_='article__link').text\n",
    "    print(title)\n"
   ]
  }
 ],
 "metadata": {
  "interpreter": {
   "hash": "d4db719dba13294554ede92694168564b7deda2e467c3974e2cc71ba9532f325"
  },
  "kernelspec": {
   "display_name": "Python 3.9.7 64-bit",
   "language": "python",
   "name": "python3"
  },
  "language_info": {
   "codemirror_mode": {
    "name": "ipython",
    "version": 3
   },
   "file_extension": ".py",
   "mimetype": "text/x-python",
   "name": "python",
   "nbconvert_exporter": "python",
   "pygments_lexer": "ipython3",
   "version": "3.9.7"
  },
  "orig_nbformat": 4
 },
 "nbformat": 4,
 "nbformat_minor": 2
}
