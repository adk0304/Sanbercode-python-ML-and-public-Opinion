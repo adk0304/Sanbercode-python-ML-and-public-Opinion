{
 "cells": [
  {
   "cell_type": "code",
   "execution_count": 25,
   "metadata": {},
   "outputs": [],
   "source": [
    "import pandas as pd\n",
    "from nltk.tokenize import word_tokenize\n",
    "import matplotlib.pyplot as plt\n",
    "import numpy as np\n",
    "from nltk.probability import FreqDist\n",
    "import nltk"
   ]
  },
  {
   "cell_type": "code",
   "execution_count": 26,
   "metadata": {},
   "outputs": [
    {
     "data": {
      "text/html": [
       "<div>\n",
       "<style scoped>\n",
       "    .dataframe tbody tr th:only-of-type {\n",
       "        vertical-align: middle;\n",
       "    }\n",
       "\n",
       "    .dataframe tbody tr th {\n",
       "        vertical-align: top;\n",
       "    }\n",
       "\n",
       "    .dataframe thead th {\n",
       "        text-align: right;\n",
       "    }\n",
       "</style>\n",
       "<table border=\"1\" class=\"dataframe\">\n",
       "  <thead>\n",
       "    <tr style=\"text-align: right;\">\n",
       "      <th></th>\n",
       "      <th>date</th>\n",
       "      <th>title</th>\n",
       "    </tr>\n",
       "  </thead>\n",
       "  <tbody>\n",
       "    <tr>\n",
       "      <th>0</th>\n",
       "      <td>2021-12-01</td>\n",
       "      <td>chelsea vs liverpool gelar juara tim muda the ...</td>\n",
       "    </tr>\n",
       "    <tr>\n",
       "      <th>1</th>\n",
       "      <td>2021-12-01</td>\n",
       "      <td>warga mamasa antre minyak goreng mengular jala...</td>\n",
       "    </tr>\n",
       "    <tr>\n",
       "      <th>2</th>\n",
       "      <td>2021-12-01</td>\n",
       "      <td>menurun tersisa pasien covid jalani isolasi gr...</td>\n",
       "    </tr>\n",
       "    <tr>\n",
       "      <th>3</th>\n",
       "      <td>2021-12-01</td>\n",
       "      <td>libur isra miraj kendaraan tinggalkan jabodeta...</td>\n",
       "    </tr>\n",
       "    <tr>\n",
       "      <th>4</th>\n",
       "      <td>2021-12-01</td>\n",
       "      <td>maret pemerintah pangkas karantina turis asing</td>\n",
       "    </tr>\n",
       "    <tr>\n",
       "      <th>5</th>\n",
       "      <td>2021-12-01</td>\n",
       "      <td>mengenal trofi alan hardaker penghargaan pemai...</td>\n",
       "    </tr>\n",
       "    <tr>\n",
       "      <th>6</th>\n",
       "      <td>2021-12-01</td>\n",
       "      <td>mengenal swift sistem keuangan global dipelint...</td>\n",
       "    </tr>\n",
       "    <tr>\n",
       "      <th>7</th>\n",
       "      <td>2021-12-01</td>\n",
       "      <td>makan malam sehat jam makan kesehatan</td>\n",
       "    </tr>\n",
       "    <tr>\n",
       "      <th>8</th>\n",
       "      <td>2021-12-01</td>\n",
       "      <td>gejala omicron siluman orang rentan terinfeksi</td>\n",
       "    </tr>\n",
       "    <tr>\n",
       "      <th>9</th>\n",
       "      <td>2021-12-01</td>\n",
       "      <td>menghilangkan bau jamur pakaian</td>\n",
       "    </tr>\n",
       "    <tr>\n",
       "      <th>10</th>\n",
       "      <td>2021-12-01</td>\n",
       "      <td>seblak bandung makanan populer jawa rahasianya</td>\n",
       "    </tr>\n",
       "    <tr>\n",
       "      <th>11</th>\n",
       "      <td>2021-12-01</td>\n",
       "      <td>arahan presiden jokowi penonton motogp mandalika</td>\n",
       "    </tr>\n",
       "    <tr>\n",
       "      <th>12</th>\n",
       "      <td>2021-12-01</td>\n",
       "      <td>penyebab manusia bermimpi tidur sains</td>\n",
       "    </tr>\n",
       "    <tr>\n",
       "      <th>13</th>\n",
       "      <td>2021-12-01</td>\n",
       "      <td>kesetiaan de zerbi pemain shakhtar donetsk tin...</td>\n",
       "    </tr>\n",
       "    <tr>\n",
       "      <th>14</th>\n",
       "      <td>2021-12-01</td>\n",
       "      <td>pdip tangani kenaikan harga kebutuhan pokok me...</td>\n",
       "    </tr>\n",
       "  </tbody>\n",
       "</table>\n",
       "</div>"
      ],
      "text/plain": [
       "          date                                              title\n",
       "0   2021-12-01  chelsea vs liverpool gelar juara tim muda the ...\n",
       "1   2021-12-01  warga mamasa antre minyak goreng mengular jala...\n",
       "2   2021-12-01  menurun tersisa pasien covid jalani isolasi gr...\n",
       "3   2021-12-01  libur isra miraj kendaraan tinggalkan jabodeta...\n",
       "4   2021-12-01     maret pemerintah pangkas karantina turis asing\n",
       "5   2021-12-01  mengenal trofi alan hardaker penghargaan pemai...\n",
       "6   2021-12-01  mengenal swift sistem keuangan global dipelint...\n",
       "7   2021-12-01              makan malam sehat jam makan kesehatan\n",
       "8   2021-12-01     gejala omicron siluman orang rentan terinfeksi\n",
       "9   2021-12-01                    menghilangkan bau jamur pakaian\n",
       "10  2021-12-01     seblak bandung makanan populer jawa rahasianya\n",
       "11  2021-12-01   arahan presiden jokowi penonton motogp mandalika\n",
       "12  2021-12-01              penyebab manusia bermimpi tidur sains\n",
       "13  2021-12-01  kesetiaan de zerbi pemain shakhtar donetsk tin...\n",
       "14  2021-12-01  pdip tangani kenaikan harga kebutuhan pokok me..."
      ]
     },
     "execution_count": 26,
     "metadata": {},
     "output_type": "execute_result"
    }
   ],
   "source": [
    "df = pd.read_csv(\"kompas_20211201_clean.csv\")\n",
    "del df['Unnamed: 0']\n",
    "df"
   ]
  },
  {
   "cell_type": "code",
   "execution_count": 27,
   "metadata": {},
   "outputs": [
    {
     "data": {
      "image/png": "[encoded data removed]",
      "text/plain": [
       "<Figure size 432x288 with 1 Axes>"
      ]
     },
     "metadata": {
      "needs_background": "light"
     },
     "output_type": "display_data"
    }
   ],
   "source": [
    "#Distribusi Frekuensi Jumlah Karakter per Data\n",
    "bin_range = np.arange(0, 260, 10)\n",
    "df['title'].str.len().hist(bins=bin_range)\n",
    "plt.show()"
   ]
  },
  {
   "cell_type": "code",
   "execution_count": 28,
   "metadata": {},
   "outputs": [
    {
     "data": {
      "image/png": "[encoded data removed]",
      "text/plain": [
       "<Figure size 432x288 with 1 Axes>"
      ]
     },
     "metadata": {
      "needs_background": "light"
     },
     "output_type": "display_data"
    }
   ],
   "source": [
    "#Distribusi Frekuensi Jumlah Kata per Data\n",
    "bin_range = np.arange(0, 50)\n",
    "df['title'].str.split().map(lambda x: len(x)).hist(bins=bin_range)\n",
    "plt.show()"
   ]
  },
  {
   "cell_type": "code",
   "execution_count": 29,
   "metadata": {},
   "outputs": [
    {
     "data": {
      "image/png": "[encoded data removed]",
      "text/plain": [
       "<Figure size 432x288 with 1 Axes>"
      ]
     },
     "metadata": {
      "needs_background": "light"
     },
     "output_type": "display_data"
    }
   ],
   "source": [
    "#Distribusi Frekuensi Panjang Kata Rata-Rata Pada Data\n",
    "df['title'].str.split().apply(lambda x : [len(i) for i in x]).map(lambda x: np.mean(x)).hist()\n",
    "plt.show()"
   ]
  },
  {
   "cell_type": "code",
   "execution_count": 36,
   "metadata": {},
   "outputs": [
    {
     "name": "stdout",
     "output_type": "stream",
     "text": [
      "<FreqDist with 108 samples and 339 outcomes>\n",
      "[(\"'\", 108), (',', 93), ('[', 15), (']', 15), (\"'jalan\", 2), (\"'mengenal\", 2), (\"'pemain\", 2), (\"'makan\", 2), (\"'chelsea\", 1), (\"'vs\", 1), (\"'liverpool\", 1), (\"'gelar\", 1), (\"'juara\", 1), (\"'tim\", 1), (\"'muda\", 1), (\"'the\", 1), (\"'reds\", 1), (\"'warga\", 1), (\"'mamasa\", 1), (\"'antre\", 1)]\n"
     ]
    },
    {
     "data": {
      "image/png": "[encoded data removed]",
      "text/plain": [
       "<Figure size 432x288 with 1 Axes>"
      ]
     },
     "metadata": {
      "needs_background": "light"
     },
     "output_type": "display_data"
    }
   ],
   "source": [
    "#Distribusi Frekuensi Kata\n",
    "df['title'] = df['title'].apply(lambda x: word_tokenize(str(x)))\n",
    "title = [word for title in df['title'] for word in title]\n",
    "fqdist = FreqDist(title)\n",
    "print(fqdist)\n",
    "\n",
    "most_common_word = fqdist.most_common(20)\n",
    "\n",
    "print(most_common_word)\n",
    "\n",
    "fqdist.plot(20,cumulative=False)\n",
    "\n",
    "plt.show()\n",
    "\n"
   ]
  },
  {
   "cell_type": "code",
   "execution_count": 35,
   "metadata": {},
   "outputs": [
    {
     "name": "stdout",
     "output_type": "stream",
     "text": [
      "(chelsea, vs, liverpool, gelar, juara, tim, muda, the, reds, warga)                            1\n",
      "(jamur, pakaian, seblak, bandung, makanan, populer, jawa, rahasianya, arahan, presiden)        1\n",
      "(menghilangkan, bau, jamur, pakaian, seblak, bandung, makanan, populer, jawa, rahasianya)      1\n",
      "(terinfeksi, menghilangkan, bau, jamur, pakaian, seblak, bandung, makanan, populer, jawa)      1\n",
      "(rentan, terinfeksi, menghilangkan, bau, jamur, pakaian, seblak, bandung, makanan, populer)    1\n",
      "(orang, rentan, terinfeksi, menghilangkan, bau, jamur, pakaian, seblak, bandung, makanan)      1\n",
      "(siluman, orang, rentan, terinfeksi, menghilangkan, bau, jamur, pakaian, seblak, bandung)      1\n",
      "(omicron, siluman, orang, rentan, terinfeksi, menghilangkan, bau, jamur, pakaian, seblak)      1\n",
      "(gejala, omicron, siluman, orang, rentan, terinfeksi, menghilangkan, bau, jamur, pakaian)      1\n",
      "(kesehatan, gejala, omicron, siluman, orang, rentan, terinfeksi, menghilangkan, bau, jamur)    1\n",
      "(makan, kesehatan, gejala, omicron, siluman, orang, rentan, terinfeksi, menghilangkan, bau)    1\n",
      "(jam, makan, kesehatan, gejala, omicron, siluman, orang, rentan, terinfeksi, menghilangkan)    1\n",
      "(sehat, jam, makan, kesehatan, gejala, omicron, siluman, orang, rentan, terinfeksi)            1\n",
      "(malam, sehat, jam, makan, kesehatan, gejala, omicron, siluman, orang, rentan)                 1\n",
      "(makan, malam, sehat, jam, makan, kesehatan, gejala, omicron, siluman, orang)                  1\n",
      "(rusia, makan, malam, sehat, jam, makan, kesehatan, gejala, omicron, siluman)                  1\n",
      "(tekan, rusia, makan, malam, sehat, jam, makan, kesehatan, gejala, omicron)                    1\n",
      "(barat, tekan, rusia, makan, malam, sehat, jam, makan, kesehatan, gejala)                      1\n",
      "(dipelintir, barat, tekan, rusia, makan, malam, sehat, jam, makan, kesehatan)                  1\n",
      "(global, dipelintir, barat, tekan, rusia, makan, malam, sehat, jam, makan)                     1\n",
      "dtype: int64\n"
     ]
    }
   ],
   "source": [
    "result = pd.Series(nltk.ngrams(title, 10)).value_counts()[:20]\n",
    "print (result)"
   ]
  }
 ],
 "metadata": {
  "interpreter": {
   "hash": "d4db719dba13294554ede92694168564b7deda2e467c3974e2cc71ba9532f325"
  },
  "kernelspec": {
   "display_name": "Python 3.9.7 64-bit",
   "language": "python",
   "name": "python3"
  },
  "language_info": {
   "codemirror_mode": {
    "name": "ipython",
    "version": 3
   },
   "file_extension": ".py",
   "mimetype": "text/x-python",
   "name": "python",
   "nbconvert_exporter": "python",
   "pygments_lexer": "ipython3",
   "version": "3.9.7"
  },
  "orig_nbformat": 4
 },
 "nbformat": 4,
 "nbformat_minor": 2
}
