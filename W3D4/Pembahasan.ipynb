{
 "cells": [
  {
   "cell_type": "code",
   "execution_count": 44,
   "metadata": {},
   "outputs": [],
   "source": [
    "import pandas as pd, numpy as np, matplotlib.pyplot as plt\n",
    "import json, re , nltk, string\n",
    "from nltk.corpus import stopwords\n",
    "from nltk.tokenize import word_tokenize\n",
    "from nltk.probability import FreqDist\n",
    "#from wordcloud import WordCloud, wordcloud"
   ]
  },
  {
   "cell_type": "code",
   "execution_count": 101,
   "metadata": {},
   "outputs": [],
   "source": [
    "df_buruh = pd.read_csv(\"buruh_tweets_202112.csv\")"
   ]
  },
  {
   "cell_type": "code",
   "execution_count": 102,
   "metadata": {},
   "outputs": [
    {
     "data": {
      "text/html": [
       "<div>\n",
       "<style scoped>\n",
       "    .dataframe tbody tr th:only-of-type {\n",
       "        vertical-align: middle;\n",
       "    }\n",
       "\n",
       "    .dataframe tbody tr th {\n",
       "        vertical-align: top;\n",
       "    }\n",
       "\n",
       "    .dataframe thead th {\n",
       "        text-align: right;\n",
       "    }\n",
       "</style>\n",
       "<table border=\"1\" class=\"dataframe\">\n",
       "  <thead>\n",
       "    <tr style=\"text-align: right;\">\n",
       "      <th></th>\n",
       "      <th>tweet</th>\n",
       "      <th>userid</th>\n",
       "    </tr>\n",
       "  </thead>\n",
       "  <tbody>\n",
       "    <tr>\n",
       "      <th>0</th>\n",
       "      <td>Tak Sesuai Kesepakatan, Buruh Tangerang Raya T...</td>\n",
       "      <td>58880688</td>\n",
       "    </tr>\n",
       "    <tr>\n",
       "      <th>1</th>\n",
       "      <td>@Resty442_ Kenapa demo buruh yg berjubel2 dapa...</td>\n",
       "      <td>1330047738541694978</td>\n",
       "    </tr>\n",
       "    <tr>\n",
       "      <th>2</th>\n",
       "      <td>Demo Buruh Rentan Ditunggangi Provokator\\nhttp...</td>\n",
       "      <td>1213739491384426497</td>\n",
       "    </tr>\n",
       "    <tr>\n",
       "      <th>3</th>\n",
       "      <td>@geloraco buruh, PP juga kemarin demo gak ada ...</td>\n",
       "      <td>930191748688592896</td>\n",
       "    </tr>\n",
       "    <tr>\n",
       "      <th>4</th>\n",
       "      <td>Berikanlah kepada buruh upahnya sebelum kering...</td>\n",
       "      <td>62988958</td>\n",
       "    </tr>\n",
       "  </tbody>\n",
       "</table>\n",
       "</div>"
      ],
      "text/plain": [
       "                                               tweet               userid\n",
       "0  Tak Sesuai Kesepakatan, Buruh Tangerang Raya T...             58880688\n",
       "1  @Resty442_ Kenapa demo buruh yg berjubel2 dapa...  1330047738541694978\n",
       "2  Demo Buruh Rentan Ditunggangi Provokator\\nhttp...  1213739491384426497\n",
       "3  @geloraco buruh, PP juga kemarin demo gak ada ...   930191748688592896\n",
       "4  Berikanlah kepada buruh upahnya sebelum kering...             62988958"
      ]
     },
     "execution_count": 102,
     "metadata": {},
     "output_type": "execute_result"
    }
   ],
   "source": [
    "df_buruh.head()"
   ]
  },
  {
   "cell_type": "code",
   "execution_count": 88,
   "metadata": {},
   "outputs": [],
   "source": [
    "#fungsi untuk pembersihan\n",
    "def case_folding(data):\n",
    "    data = data.lower()\n",
    "    data = ' '.join(re.sub(\"(@[A-Za-z0-9]+)|([^0-9A-Za-z \\t])|(\\w+:\\/\\/\\S+)\", \" \", data).split())\n",
    "    data = re.sub(r\"\\d+\",\"\", data)\n",
    "    data = data.translate(str.maketrans(\"\",\"\",string.punctuation))\n",
    "    data = re.sub(r\"\\n\",\"\",data)\n",
    "    data = re.sub(r\"\\t\",\"\",data)\n",
    "    return data\n",
    "def stopword_cleaner(data):\n",
    "    sw_indonesia = stopwords.words(\"indonesian\")\n",
    "    data = [word for word in data if word not in sw_indonesia]\n",
    "    data = ' '.join(data)\n",
    "    return data\n",
    "def slang_cleaner(data, slang_list:list=[]):\n",
    "    word_token = word_tokenize(data)\n",
    "    word_list = []\n",
    "\n",
    "    for word in word_token:\n",
    "        for slang in slang_list:\n",
    "            if word.lower() in slang[0].lower():\n",
    "                word = slang[1]\n",
    "                break\n",
    "        word_list.append(word)\n",
    "\n",
    "    data = ' '.join(word_list)\n",
    "    return data"
   ]
  },
  {
   "cell_type": "code",
   "execution_count": 112,
   "metadata": {},
   "outputs": [],
   "source": [
    "#fungsi analytic\n",
    "def words_freq_distribution(data):\n",
    "    data = data.apply(lambda x: word_tokenize(str(x)))\n",
    "    tweets = [word for tweet in data for word in tweet]\n",
    "    fqdist = FreqDist(tweets)\n",
    "    most_common_word = fqdist.most_common(50)\n",
    "    return most_common_word, tweets\n",
    "\n",
    "def word_len_freq_distribution(data):\n",
    "    bin_range = np.arange(0,50)\n",
    "    plot_2 = plt.figure(2)\n",
    "    data.str.split().map(lambda x: len(x)).hist(bins=bin_range)\n",
    "    plt.title(\"Distribusi jumlah kata per Tweet\")\n",
    "    \n",
    "def mean_word_freq_distribution(data):\n",
    "    plot_3 = plt.figure(3)\n",
    "    data.str.split().apply(lambda x: [len(i) for i in x]).map(lambda x: np.mean(x)).hist()\n",
    "    plt.title(\"Distribusi panjang kata rata-rata per tweet\")\n",
    "\n",
    "def bigram_freq_distribution(data):\n",
    "    data_to_list = [word for news in data for word in news.split()]\n",
    "    result = pd.Series(nltk.ngrams(data_to_list,2)).value_counts()[:20]\n",
    "    return result\n",
    "\n",
    "def char_freq_distribution(data):\n",
    "    bins = np.arange(0,270,10)\n",
    "    plot_1 = plt.figure(1)\n",
    "    data.str.len().hist(bins=bins)\n",
    "    plt.title(\"Distribusi jumlah huruf per tweet\")\n"
   ]
  },
  {
   "cell_type": "code",
   "execution_count": 103,
   "metadata": {},
   "outputs": [],
   "source": [
    "df_buruh[\"clean_tweet\"] = df_buruh[\"tweet\"].apply(lambda x: case_folding(x))\n",
    "df_buruh[\"clean_tweet\"] = df_buruh[\"clean_tweet\"].apply(lambda x: word_tokenize(x))\n",
    "df_buruh[\"clean_tweet\"] = df_buruh[\"clean_tweet\"].apply(lambda x: stopword_cleaner(x))"
   ]
  },
  {
   "cell_type": "code",
   "execution_count": 104,
   "metadata": {},
   "outputs": [
    {
     "data": {
      "text/html": [
       "<div>\n",
       "<style scoped>\n",
       "    .dataframe tbody tr th:only-of-type {\n",
       "        vertical-align: middle;\n",
       "    }\n",
       "\n",
       "    .dataframe tbody tr th {\n",
       "        vertical-align: top;\n",
       "    }\n",
       "\n",
       "    .dataframe thead th {\n",
       "        text-align: right;\n",
       "    }\n",
       "</style>\n",
       "<table border=\"1\" class=\"dataframe\">\n",
       "  <thead>\n",
       "    <tr style=\"text-align: right;\">\n",
       "      <th></th>\n",
       "      <th>tweet</th>\n",
       "      <th>userid</th>\n",
       "      <th>clean_tweet</th>\n",
       "    </tr>\n",
       "  </thead>\n",
       "  <tbody>\n",
       "    <tr>\n",
       "      <th>0</th>\n",
       "      <td>Tak Sesuai Kesepakatan, Buruh Tangerang Raya T...</td>\n",
       "      <td>58880688</td>\n",
       "      <td>sesuai kesepakatan buruh tangerang raya tolak ...</td>\n",
       "    </tr>\n",
       "    <tr>\n",
       "      <th>1</th>\n",
       "      <td>@Resty442_ Kenapa demo buruh yg berjubel2 dapa...</td>\n",
       "      <td>1330047738541694978</td>\n",
       "      <td>demo buruh yg berjubel izin terang benderang</td>\n",
       "    </tr>\n",
       "    <tr>\n",
       "      <th>2</th>\n",
       "      <td>Demo Buruh Rentan Ditunggangi Provokator\\nhttp...</td>\n",
       "      <td>1213739491384426497</td>\n",
       "      <td>demo buruh rentan ditunggangi provokator ayo d...</td>\n",
       "    </tr>\n",
       "    <tr>\n",
       "      <th>3</th>\n",
       "      <td>@geloraco buruh, PP juga kemarin demo gak ada ...</td>\n",
       "      <td>930191748688592896</td>\n",
       "      <td>buruh pp kemarin demo gak tuh pasalan yg polis...</td>\n",
       "    </tr>\n",
       "    <tr>\n",
       "      <th>4</th>\n",
       "      <td>Berikanlah kepada buruh upahnya sebelum kering...</td>\n",
       "      <td>62988958</td>\n",
       "      <td>berikanlah buruh upahnya kering keringatnya hr...</td>\n",
       "    </tr>\n",
       "  </tbody>\n",
       "</table>\n",
       "</div>"
      ],
      "text/plain": [
       "                                               tweet               userid  \\\n",
       "0  Tak Sesuai Kesepakatan, Buruh Tangerang Raya T...             58880688   \n",
       "1  @Resty442_ Kenapa demo buruh yg berjubel2 dapa...  1330047738541694978   \n",
       "2  Demo Buruh Rentan Ditunggangi Provokator\\nhttp...  1213739491384426497   \n",
       "3  @geloraco buruh, PP juga kemarin demo gak ada ...   930191748688592896   \n",
       "4  Berikanlah kepada buruh upahnya sebelum kering...             62988958   \n",
       "\n",
       "                                         clean_tweet  \n",
       "0  sesuai kesepakatan buruh tangerang raya tolak ...  \n",
       "1       demo buruh yg berjubel izin terang benderang  \n",
       "2  demo buruh rentan ditunggangi provokator ayo d...  \n",
       "3  buruh pp kemarin demo gak tuh pasalan yg polis...  \n",
       "4  berikanlah buruh upahnya kering keringatnya hr...  "
      ]
     },
     "execution_count": 104,
     "metadata": {},
     "output_type": "execute_result"
    }
   ],
   "source": [
    "df_buruh.head()"
   ]
  },
  {
   "cell_type": "code",
   "execution_count": 91,
   "metadata": {},
   "outputs": [],
   "source": [
    "most_common_word = words_freq_distribution(df_buruh[\"clean_tweet\"])\n",
    "#print(most_common_word)"
   ]
  },
  {
   "cell_type": "code",
   "execution_count": 73,
   "metadata": {},
   "outputs": [],
   "source": [
    "slang_list = [\n",
    "    ('yg','yang'),\n",
    "    ('umk','upah minimum kota'),\n",
    "    ('aja','saja'),\n",
    "    ('ya','iya'),\n",
    "    ('gak','tidak'),\n",
    "    ('ump','upah minimum provinsi'),\n",
    "    ('kalo','kalau'),\n",
    "    ('amp',''),\n",
    "    ('jg','juga'),\n",
    "    ('jd','jadi'),\n",
    "    ('klo','kalau'),\n",
    "    ('uu','undang-undang'),\n",
    "    ('sih',''),\n",
    "    ('udah','sudah'),\n",
    "    ('dgn','dengan')\n",
    "]"
   ]
  },
  {
   "cell_type": "code",
   "execution_count": 105,
   "metadata": {},
   "outputs": [],
   "source": [
    "df_buruh[\"clean_tweet\"] = df_buruh[\"clean_tweet\"].apply(lambda x: slang_cleaner(x, slang_list))\n",
    "df_buruh[\"clean_tweet\"] = df_buruh[\"clean_tweet\"].apply(lambda x: word_tokenize(x))\n",
    "df_buruh[\"clean_tweet\"] = df_buruh[\"clean_tweet\"].apply(lambda x: stopword_cleaner(x))\n"
   ]
  },
  {
   "cell_type": "code",
   "execution_count": 106,
   "metadata": {},
   "outputs": [
    {
     "data": {
      "text/html": [
       "<div>\n",
       "<style scoped>\n",
       "    .dataframe tbody tr th:only-of-type {\n",
       "        vertical-align: middle;\n",
       "    }\n",
       "\n",
       "    .dataframe tbody tr th {\n",
       "        vertical-align: top;\n",
       "    }\n",
       "\n",
       "    .dataframe thead th {\n",
       "        text-align: right;\n",
       "    }\n",
       "</style>\n",
       "<table border=\"1\" class=\"dataframe\">\n",
       "  <thead>\n",
       "    <tr style=\"text-align: right;\">\n",
       "      <th></th>\n",
       "      <th>tweet</th>\n",
       "      <th>userid</th>\n",
       "      <th>clean_tweet</th>\n",
       "    </tr>\n",
       "  </thead>\n",
       "  <tbody>\n",
       "    <tr>\n",
       "      <th>0</th>\n",
       "      <td>Tak Sesuai Kesepakatan, Buruh Tangerang Raya T...</td>\n",
       "      <td>58880688</td>\n",
       "      <td>sesuai kesepakatan buruh tangerang raya tolak ...</td>\n",
       "    </tr>\n",
       "    <tr>\n",
       "      <th>1</th>\n",
       "      <td>@Resty442_ Kenapa demo buruh yg berjubel2 dapa...</td>\n",
       "      <td>1330047738541694978</td>\n",
       "      <td>demo buruh berjubel izin terang benderang</td>\n",
       "    </tr>\n",
       "    <tr>\n",
       "      <th>2</th>\n",
       "      <td>Demo Buruh Rentan Ditunggangi Provokator\\nhttp...</td>\n",
       "      <td>1213739491384426497</td>\n",
       "      <td>demo buruh rentan ditunggangi provokator ayo d...</td>\n",
       "    </tr>\n",
       "    <tr>\n",
       "      <th>3</th>\n",
       "      <td>@geloraco buruh, PP juga kemarin demo gak ada ...</td>\n",
       "      <td>930191748688592896</td>\n",
       "      <td>buruh pp kemarin demo tuh pasalan polisi pasie...</td>\n",
       "    </tr>\n",
       "    <tr>\n",
       "      <th>4</th>\n",
       "      <td>Berikanlah kepada buruh upahnya sebelum kering...</td>\n",
       "      <td>62988958</td>\n",
       "      <td>berikanlah buruh upahnya kering keringatnya hr...</td>\n",
       "    </tr>\n",
       "  </tbody>\n",
       "</table>\n",
       "</div>"
      ],
      "text/plain": [
       "                                               tweet               userid  \\\n",
       "0  Tak Sesuai Kesepakatan, Buruh Tangerang Raya T...             58880688   \n",
       "1  @Resty442_ Kenapa demo buruh yg berjubel2 dapa...  1330047738541694978   \n",
       "2  Demo Buruh Rentan Ditunggangi Provokator\\nhttp...  1213739491384426497   \n",
       "3  @geloraco buruh, PP juga kemarin demo gak ada ...   930191748688592896   \n",
       "4  Berikanlah kepada buruh upahnya sebelum kering...             62988958   \n",
       "\n",
       "                                         clean_tweet  \n",
       "0  sesuai kesepakatan buruh tangerang raya tolak ...  \n",
       "1          demo buruh berjubel izin terang benderang  \n",
       "2  demo buruh rentan ditunggangi provokator ayo d...  \n",
       "3  buruh pp kemarin demo tuh pasalan polisi pasie...  \n",
       "4  berikanlah buruh upahnya kering keringatnya hr...  "
      ]
     },
     "execution_count": 106,
     "metadata": {},
     "output_type": "execute_result"
    }
   ],
   "source": [
    "df_buruh.head()"
   ]
  },
  {
   "cell_type": "code",
   "execution_count": 113,
   "metadata": {},
   "outputs": [
    {
     "name": "stdout",
     "output_type": "stream",
     "text": [
      "(upah, minimum)        201\n",
      "(minimum, kota)        123\n",
      "(demo, buruh)          102\n",
      "(minimum, provinsi)     65\n",
      "(buruh, demo)           59\n",
      "(kenaikan, upah)        46\n",
      "(buruh, pabrik)         36\n",
      "(upah, buruh)           34\n",
      "(buruh, berjiwa)        30\n",
      "(penetapan, upah)       30\n",
      "(serikat, buruh)        26\n",
      "(kaum, buruh)           24\n",
      "(buruh, buruh)          22\n",
      "(gaji, buruh)           22\n",
      "(buruh, upah)           19\n",
      "(kota, buruh)           18\n",
      "(tuntut, upah)          18\n",
      "(mogok, kerja)          17\n",
      "(cipta, kerja)          16\n",
      "(aksi, buruh)           16\n",
      "dtype: int64\n"
     ]
    },
    {
     "data": {
      "image/png": "[encoded data removed]",
      "text/plain": [
       "<Figure size 432x288 with 1 Axes>"
      ]
     },
     "metadata": {
      "needs_background": "light"
     },
     "output_type": "display_data"
    },
    {
     "data": {
      "image/png": "[encoded data removed]",
      "text/plain": [
       "<Figure size 432x288 with 1 Axes>"
      ]
     },
     "metadata": {
      "needs_background": "light"
     },
     "output_type": "display_data"
    },
    {
     "data": {
      "image/png": "[encoded data removed]",
      "text/plain": [
       "<Figure size 432x288 with 1 Axes>"
      ]
     },
     "metadata": {
      "needs_background": "light"
     },
     "output_type": "display_data"
    }
   ],
   "source": [
    "char_freq_distribution(df_buruh['clean_tweet'])\n",
    "word_len_freq_distribution(df_buruh['clean_tweet'])\n",
    "mean_word_freq_distribution(df_buruh['clean_tweet'])\n",
    "bigram_result = bigram_freq_distribution(df_buruh['clean_tweet'])\n",
    "print(bigram_result)\n",
    "\n",
    "plt.show()"
   ]
  }
 ],
 "metadata": {
  "interpreter": {
   "hash": "d4db719dba13294554ede92694168564b7deda2e467c3974e2cc71ba9532f325"
  },
  "kernelspec": {
   "display_name": "Python 3.9.7 64-bit",
   "language": "python",
   "name": "python3"
  },
  "language_info": {
   "codemirror_mode": {
    "name": "ipython",
    "version": 3
   },
   "file_extension": ".py",
   "mimetype": "text/x-python",
   "name": "python",
   "nbconvert_exporter": "python",
   "pygments_lexer": "ipython3",
   "version": "3.9.7"
  },
  "orig_nbformat": 4
 },
 "nbformat": 4,
 "nbformat_minor": 2
}
